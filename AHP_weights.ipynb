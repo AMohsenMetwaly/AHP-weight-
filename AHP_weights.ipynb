{
 "cells": [
  {
   "cell_type": "code",
   "execution_count": 63,
   "id": "91a5ce23-eb3d-4a23-b048-3ee92bd31d37",
   "metadata": {},
   "outputs": [
    {
     "name": "stdout",
     "output_type": "stream",
     "text": [
      "Calculated Weights:\n",
      "Wp: 0.493\n",
      "Rd: 0.353\n",
      "l: 0.154\n",
      "\n",
      "Consistency Ratio: 0.0283\n"
     ]
    }
   ],
   "source": [
    "import ahpy\n",
    "import math \n",
    "\n",
    "# Define the pairwise comparison dictionary directly\n",
    "comparisons = {\n",
    "    ('Rd', 'l'): (math.e**1),  # Rd is considerably more important than l\n",
    "    ('Wp', 'l'): (math.e**1),  # Wp is considerably more important than l\n",
    "    ('Wp', 'Rd'): (math.e**0.5)  # Wp is slightly more important than Rd\n",
    "}\n",
    "\n",
    "# Create the AHP model with the comparisons and a name for the model\n",
    "ahp_model = ahpy.Compare(comparisons=comparisons, name=\"Hydrological Connectivity Model\")\n",
    "\n",
    "# Calculate the weights\n",
    "weights = ahp_model.target_weights\n",
    "\n",
    "# Output the calculated weights\n",
    "print(\"Calculated Weights:\")\n",
    "for criterion, weight in weights.items():\n",
    "    print(f\"{criterion}: {weight:.3f}\")\n",
    "\n",
    "# Get the consistency ratio to check the consistency of the pairwise comparisons\n",
    "consistency_ratio = ahp_model.consistency_ratio\n",
    "print(\"\\nConsistency Ratio:\", consistency_ratio)\n"
   ]
  }
 ],
 "metadata": {
  "kernelspec": {
   "display_name": "Python 3 (ipykernel)",
   "language": "python",
   "name": "python3"
  },
  "language_info": {
   "codemirror_mode": {
    "name": "ipython",
    "version": 3
   },
   "file_extension": ".py",
   "mimetype": "text/x-python",
   "name": "python",
   "nbconvert_exporter": "python",
   "pygments_lexer": "ipython3",
   "version": "3.12.4"
  }
 },
 "nbformat": 4,
 "nbformat_minor": 5
}
